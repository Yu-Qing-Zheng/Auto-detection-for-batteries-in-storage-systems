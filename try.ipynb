{
 "cells": [
  {
   "cell_type": "code",
   "execution_count": null,
   "metadata": {},
   "outputs": [],
   "source": [
    "from energy.maximum_energy_calculate import maximum_energy_calculate\n",
    "import pandas as pd\n",
    "plc = [40]\n",
    "ts = maximum_energy_calculate(plc)\n",
    "print(ts)\n",
    "if isinstance(ts, pd.DataFrame):\n",
    "    ts.to_csv('try.csv')"
   ]
  },
  {
   "cell_type": "code",
   "execution_count": null,
   "metadata": {},
   "outputs": [],
   "source": [
    "from clock.get_current_time import get_current_time\n",
    "from clock.time_count import time_count\n",
    "stime = '2022-09-04 '+get_current_time()[1]\n",
    "end_time = get_current_time()[0]\n",
    "time_count(stime, end_time)"
   ]
  },
  {
   "cell_type": "code",
   "execution_count": null,
   "metadata": {},
   "outputs": [],
   "source": [
    "from energy.maximum_energy_calculate import maximum_energy_calculate\n",
    "from energy.median_energy_calculate import median_energy_calculate\n",
    "from clock.get_current_time import get_current_time\n",
    "import datetime\n",
    "from settings import fmt1\n",
    "start_time = '2022-09-16 14:00:00'\n",
    "end_time = get_current_time()[0]\n",
    "median_energy_calculate(start_time, end_time, [40])"
   ]
  },
  {
   "cell_type": "code",
   "execution_count": null,
   "metadata": {},
   "outputs": [],
   "source": [
    "from mongodb.query_request import query_request\n",
    "import datetime\n",
    "from settings import fmt1, filter_for_energy_calculation\n",
    "start_time = '2022-09-15 08:00:00'\n",
    "end_time = '2022-09-15 08:05:00'\n",
    "start_time_ts = datetime.datetime.strptime(start_time, fmt1)\n",
    "end_time_ts = datetime.datetime.strptime(end_time, fmt1)\n",
    "data = query_request.datalog_query(start_time_ts, end_time_ts, [48], filter_for_energy_calculation)\n",
    "data"
   ]
  },
  {
   "cell_type": "code",
   "execution_count": null,
   "metadata": {},
   "outputs": [],
   "source": [
    "from sched import scheduler\n",
    "from clock.get_current_time import get_current_time\n",
    "from energy.energy_trigger import energy_trigger\n",
    "from apscheduler.schedulers.blocking import BlockingScheduler\n",
    "start_time = get_current_time()[0]\n",
    "def et_try():\n",
    "    print('---Begin---')\n",
    "    plc = [2]\n",
    "    flag = energy_trigger(plc)\n",
    "    print(get_current_time()[0], flag)\n",
    "    print('---end---')\n",
    "scheduler = BlockingScheduler()\n",
    "scheduler.add_job(et_try, 'interval', seconds = 2)\n",
    "scheduler.start()"
   ]
  },
  {
   "cell_type": "code",
   "execution_count": null,
   "metadata": {},
   "outputs": [],
   "source": [
    "from sched import scheduler\n",
    "from clock.get_current_time import get_current_time\n",
    "from energy.energy_trigger import energy_trigger\n",
    "from apscheduler.schedulers.blocking import BlockingScheduler\n",
    "from plcid.query_all_plc import query_all_plc\n",
    "from settings import plc_csv_file, plc_csv_path\n",
    "import pandas as pd\n",
    "start_time = get_current_time()[0]\n",
    "def diagnose_trigger_service():\n",
    "    print('---Begin---')\n",
    "    plc_update = query_all_plc()\n",
    "    df_plc = pd.read_csv(plc_csv_path+plc_csv_file)\n",
    "    plc_set = df_plc['plc'].values\n",
    "    for i in range(0, df_plc.shape[0]):\n",
    "        plc = [int(plc_set[i])]\n",
    "        print(plc)\n",
    "        flag = energy_trigger(plc)\n",
    "        print(get_current_time()[0], flag)\n",
    "    print('---end---')\n",
    "scheduler = BlockingScheduler()\n",
    "scheduler.add_job(diagnose_trigger_service, 'interval', seconds = 15)\n",
    "scheduler.start()"
   ]
  },
  {
   "cell_type": "code",
   "execution_count": 14,
   "metadata": {},
   "outputs": [],
   "source": [
    "import pandas as pd\n",
    "a = pd.DataFrame({'A':[1,2,3], 'B':[1,2,3]})\n",
    "b = pd.DataFrame({'A':[4,5,6], 'B':[4,5,6]})\n",
    "c = pd.concat([a,b], axis=0, ignore_index=True)"
   ]
  },
  {
   "cell_type": "code",
   "execution_count": null,
   "metadata": {},
   "outputs": [],
   "source": [
    "from messager.dingtalk_chatbot import dingtalkchatrobot\n",
    "import pandas as pd\n",
    "from settings import plc_csv_file, plc_csv_path\n",
    "#dingtalkchatrobot.energy_trigger_sender()\n",
    "df_plc = pd.read_csv(plc_csv_path+plc_csv_file)\n",
    "plcset = df_plc['plc'].values\n",
    "minus_set = []\n",
    "zero_set = []\n",
    "one_set = []\n",
    "for plc in plcset:\n",
    "    plc = [plc]\n",
    "    energy_flag = dingtalkchatrobot.get_trigger(plc)\n",
    "    if energy_flag == 0:\n",
    "        zero_set.append(energy_flag)\n",
    "    if energy_flag == -1:\n",
    "        zero_set.append(energy_flag)\n",
    "    if energy_flag == 1:\n",
    "        zero_set.append(energy_flag)\n",
    "print('0:', zero_set)\n",
    "print('-1:', minus_set)\n",
    "print('1:', one_set)"
   ]
  },
  {
   "cell_type": "code",
   "execution_count": null,
   "metadata": {},
   "outputs": [],
   "source": [
    "from mongodb.query_request import query_request\n",
    "from clock.get_current_time import get_current_time\n",
    "import datetime\n",
    "from settings import energy_trigger_sender_webhook, \\\n",
    "    energy_trigger_sender_secret, bot_query_dayrange, filter_for_energy_trigger, fmt1\n",
    "now_time = get_current_time()[0]\n",
    "now_time_ts = datetime.datetime.strptime(now_time, fmt1)\n",
    "start_time_ts = now_time_ts - datetime.timedelta(days=bot_query_dayrange)\n",
    "print(start_time_ts ,now_time_ts)\n",
    "data = query_request.trigger_query(start_time_ts, now_time_ts, [2], \\\n",
    "    filter_for_energy_trigger)"
   ]
  },
  {
   "cell_type": "code",
   "execution_count": null,
   "metadata": {},
   "outputs": [],
   "source": [
    "threshold = [1,1]\n",
    "max = [2,2]\n",
    "plc = [2]\n",
    "text_report = 'PLC_id:'+str(plc[0])+', '+'[充电量标准]forward:'+str(threshold[0])+', [放电量标准]reverse:'+str(threshold[0])+',\\n'\\\n",
    "                +'[24小时内最大充电量]forward:'+str(max[0])+', [24小时内最大放电量]reverse:'+str(max[1])+'.'\n",
    "print(text_report)"
   ]
  },
  {
   "cell_type": "code",
   "execution_count": null,
   "metadata": {},
   "outputs": [],
   "source": [
    "import pandas as pd\n",
    "df = pd.DataFrame({'A':[-1,-2,-3]})\n",
    "b = abs(df['A']).max()\n",
    "c = df[abs(df['A'])>1].index\n",
    "col = df.columns.get_loc('A')\n",
    "df.iloc[c.values, col] = 0\n",
    "df"
   ]
  },
  {
   "cell_type": "code",
   "execution_count": null,
   "metadata": {},
   "outputs": [],
   "source": [
    "from mongodb.query_request import query_request\n",
    "from settings import plc_csv_file, plc_csv_path, filter_for_energy_threshold, fmt1\n",
    "import pandas as pd\n",
    "from clock.get_current_time import get_current_time\n",
    "import datetime\n",
    "df_plc_list = pd.read_csv(plc_csv_path+plc_csv_file)\n",
    "plcset = df_plc_list['plc'].values\n",
    "df_thres = pd.DataFrame()\n",
    "for i in range(0, len(plcset)):\n",
    "    plc = [int(plcset[i])]\n",
    "    print(plc)\n",
    "    start_time = str(df_plc_list[df_plc_list['plc']==plc[0]]['time'].values[0])\n",
    "    start_time_ts = datetime.datetime.strptime(start_time, fmt1)\n",
    "    now_time = get_current_time()\n",
    "    now_time_ts = datetime.datetime.strptime(now_time[0], fmt1)\n",
    "    data = query_request.threshold_query(start_time_ts, now_time_ts, plc, filter_for_energy_threshold)\n",
    "    if len(data) > 0:\n",
    "        thres_f = data[0]['median_max_forward']\n",
    "        thres_r = data[0]['median_max_reverse']\n",
    "        if thres_f >= 0 and thres_r >= 0:\n",
    "            print(start_time_ts)\n",
    "            thres_end_time_ts = start_time_ts + datetime.timedelta(days=7)\n",
    "            print(thres_end_time_ts)\n",
    "            to_append = pd.DataFrame({'plc': [plc[0]], '开始时间': [start_time_ts], '结束时间': [thres_end_time_ts], \\\n",
    "                                      '最大单次充电量': [thres_f], '最大单次放电量': [thres_r]})\n",
    "            df_thres = df_thres.append(to_append)\n",
    "df_thres = df_thres.sort_values(by = 'plc', ascending=True)\n",
    "df_thres = df_thres.reset_index(drop=True)\n",
    "df_thres = df_thres.loc[:, ~df_thres.columns.str.contains(\"^Unnamed\")]\n",
    "df_thres.to_csv('有效最大单次充放电量.csv')"
   ]
  },
  {
   "cell_type": "code",
   "execution_count": null,
   "metadata": {},
   "outputs": [],
   "source": [
    "from data.dron import dron\n",
    "data = dron.find_battery_to_check([40])"
   ]
  },
  {
   "cell_type": "code",
   "execution_count": null,
   "metadata": {},
   "outputs": [],
   "source": [
    "data['Voltage'].mean()"
   ]
  },
  {
   "cell_type": "code",
   "execution_count": null,
   "metadata": {},
   "outputs": [],
   "source": [
    "data['Voltage'].std()"
   ]
  },
  {
   "cell_type": "code",
   "execution_count": null,
   "metadata": {},
   "outputs": [],
   "source": [
    "data"
   ]
  },
  {
   "cell_type": "code",
   "execution_count": null,
   "metadata": {},
   "outputs": [],
   "source": [
    "(3.410-data['Voltage'].mean())/data['Voltage'].std()"
   ]
  },
  {
   "cell_type": "code",
   "execution_count": null,
   "metadata": {},
   "outputs": [],
   "source": [
    "2.815975*data['Voltage'].std()+data['Voltage'].mean()"
   ]
  },
  {
   "cell_type": "code",
   "execution_count": null,
   "metadata": {},
   "outputs": [],
   "source": [
    "from soc.main_entry import SOC\n",
    "import time\n",
    "from mongodb.query_request import query_request\n",
    "import importlib\n",
    "from clock.get_current_time import get_current_time\n",
    "import datetime\n",
    "import numpy as np\n",
    "\n",
    "settings = importlib.import_module('settings')\n",
    "now_time = get_current_time()[0]\n",
    "now_time = '2022-09-26 23:00:00'\n",
    "plc = [40]\n",
    "now_time_ts = datetime.datetime.strptime(now_time, settings.fmt1)\n",
    "start_time_ts = now_time_ts - datetime.timedelta(days=settings.day_interval)\n",
    "data = query_request.datalog_query(start_time_ts, now_time_ts, plc, \\\n",
    "                                    settings.filter_for_data_collection)\n",
    "for i in range(0, len(data)):\n",
    "    theTime = (data[i]['time']).strftime('%Y-%m-%d %H:%M:%S')\n",
    "    theVolt = np.int16(data[i]['data']['1组1号电池电压'])/1000\n",
    "    theCurr = np.int16(data[i]['data']['PCS电池电流'])/10\n",
    "    theTemp = 25\n",
    "    \n",
    "    if i > 20:\n",
    "        theStatus = -1\n",
    "    else:\n",
    "        theStatus = 0\n",
    "    print(theTime, theVolt, theCurr, theTemp, theStatus)\n",
    "    soc = SOC(40, theTime, theVolt, theCurr, theTemp, theStatus)\n",
    "    print(soc.predict_soc)"
   ]
  },
  {
   "cell_type": "code",
   "execution_count": 6,
   "metadata": {},
   "outputs": [
    {
     "data": {
      "text/plain": [
       "215.6"
      ]
     },
     "execution_count": 6,
     "metadata": {},
     "output_type": "execute_result"
    }
   ],
   "source": [
    "from mysql.mysql_model import *\n",
    "mysql_session = get_session()\n",
    "thres_parameter = mysql_session.query(energy_threshold).filter(energy_threshold.plc_id==40).all()\n",
    "thres_parameter[0].median_max_forward"
   ]
  },
  {
   "cell_type": "code",
   "execution_count": 6,
   "metadata": {},
   "outputs": [],
   "source": [
    "import datetime\n",
    "try1 = diagnose_trigger(plc_id=2, time = datetime.datetime.now(), energy_flag = 0)\n",
    "mysql_session.add(try1)\n",
    "mysql_session.commit()"
   ]
  },
  {
   "cell_type": "code",
   "execution_count": 22,
   "metadata": {},
   "outputs": [],
   "source": [
    "import pandas as pd\n",
    "pd.to_datetime(data.time)\n",
    "mysql_session.query(diagnose_trigger).filter(diagnose_trigger.plc_id==1).update({'time':pd.to_datetime(datetime.datetime.now())})\n",
    "mysql_session.commit()"
   ]
  },
  {
   "cell_type": "code",
   "execution_count": 20,
   "metadata": {},
   "outputs": [],
   "source": [
    "mysql_session.close()"
   ]
  },
  {
   "cell_type": "code",
   "execution_count": 11,
   "metadata": {},
   "outputs": [
    {
     "data": {
      "text/plain": [
       "datetime.datetime(2022, 9, 30, 18, 3, 18)"
      ]
     },
     "execution_count": 11,
     "metadata": {},
     "output_type": "execute_result"
    }
   ],
   "source": [
    "query[0].time"
   ]
  },
  {
   "cell_type": "code",
   "execution_count": 17,
   "metadata": {},
   "outputs": [],
   "source": [
    "# add/update data:\n",
    "import sqlalchemy\n",
    "import datetime\n",
    "from pandas import to_datetime\n",
    "from mysql.mysql_model import *\n",
    "mysql_session = get_session()\n",
    "query = mysql_session.query(diagnose_trigger).filter(diagnose_trigger.plc_id==3).all()\n",
    "if len(query) == 1:\n",
    "    mysql_session.query(diagnose_trigger).filter(diagnose_trigger.plc_id==3).update({'time':to_datetime(datetime.datetime.now()), 'energy_flag':0})\n",
    "    mysql_session.commit()\n",
    "else:\n",
    "    if len(query) < 1:\n",
    "        add = diagnose_trigger(plc_id=3, time=to_datetime(datetime.datetime.now()), energy_flag=1)\n",
    "        mysql_session.add(add)\n",
    "        mysql_session.commit()\n",
    "    else:\n",
    "        print('PLC_ID ' + str(3) + 'has more than one segment of data.')\n",
    "\n"
   ]
  },
  {
   "cell_type": "code",
   "execution_count": 11,
   "metadata": {},
   "outputs": [
    {
     "name": "stderr",
     "output_type": "stream",
     "text": [
      "'a' is not recognized as an internal or external command,\n",
      "operable program or batch file.\n"
     ]
    }
   ],
   "source": [
    "a = 'A'\n",
    "b = ['A', 'B']\n",
    "(a in b)"
   ]
  },
  {
   "cell_type": "code",
   "execution_count": 8,
   "metadata": {},
   "outputs": [
    {
     "data": {
      "text/plain": [
       "array([[296.24084078, 296.24084078, 294.19283844, 293.36870169,\n",
       "        293.36870169]])"
      ]
     },
     "execution_count": 8,
     "metadata": {},
     "output_type": "execute_result"
    }
   ],
   "source": [
    "from soc.getParamESC import getParamESC\n",
    "import scipy.io as scio\n",
    "import numpy as np\n",
    "matfile = './soc/280Ahmodel.mat'\n",
    "model = scio.loadmat(matfile)['model']\n",
    "#getParamESC('A', 25, model)\n",
    "len(model['temps'][0][0][0])\n",
    "param = 'QParam'\n",
    "model[param][0][0]"
   ]
  },
  {
   "cell_type": "code",
   "execution_count": 8,
   "metadata": {},
   "outputs": [
    {
     "data": {
      "text/plain": [
       "(5, 1)"
      ]
     },
     "execution_count": 8,
     "metadata": {},
     "output_type": "execute_result"
    }
   ],
   "source": [
    "param = 'OCVeta'\n",
    "model[param][0][0].shape\n"
   ]
  },
  {
   "cell_type": "code",
   "execution_count": 12,
   "metadata": {},
   "outputs": [
    {
     "data": {
      "text/plain": [
       "array([1])"
      ]
     },
     "execution_count": 12,
     "metadata": {},
     "output_type": "execute_result"
    }
   ],
   "source": [
    "import numpy as np\n",
    "np.array(a).reshape(1, )"
   ]
  },
  {
   "cell_type": "code",
   "execution_count": 40,
   "metadata": {},
   "outputs": [
    {
     "data": {
      "text/plain": [
       "array([1, 2, 3])"
      ]
     },
     "execution_count": 40,
     "metadata": {},
     "output_type": "execute_result"
    }
   ],
   "source": [
    "np.array([[1,2,3]])[0, :]"
   ]
  },
  {
   "cell_type": "code",
   "execution_count": 48,
   "metadata": {},
   "outputs": [
    {
     "data": {
      "text/plain": [
       "array(2.)"
      ]
     },
     "execution_count": 48,
     "metadata": {},
     "output_type": "execute_result"
    }
   ],
   "source": [
    "from scipy.interpolate import make_interp_spline\n",
    "x = np.array([1,2,3,4])\n",
    "y = np.array([2,4,6,5])\n",
    "make_interp_spline(x, y)(1)"
   ]
  },
  {
   "cell_type": "code",
   "execution_count": 1,
   "metadata": {},
   "outputs": [
    {
     "name": "stdout",
     "output_type": "stream",
     "text": [
      "OCV0 (201, 1)\n",
      "OCVrel (201, 1)\n",
      "SOC (201, 1)\n",
      "OCV (113, 1)\n",
      "SOC0 (113, 1)\n",
      "SOCrel (113, 1)\n",
      "OCVeta (1, 1)\n",
      "OCVQ (1, 1)\n",
      "temps (1, 1)\n",
      "etaParam (1, 1)\n",
      "QParam (1, 1)\n",
      "GParam (1, 1)\n",
      "M0Param (1, 1)\n",
      "MParam (1, 1)\n",
      "R0Param (1, 1)\n",
      "RCParam (3, 1)\n",
      "RParam (3, 1)\n",
      "dOCV0 (201, 1)\n",
      "dOCVrel (201, 1)\n"
     ]
    }
   ],
   "source": [
    "from soc.getParamESC import getParamESC\n",
    "import scipy.io as scio\n",
    "import numpy as np\n",
    "matfile = './soc/280Ahmodel1.mat'\n",
    "model = scio.loadmat(matfile)['model']\n",
    "getParamESC('QParam', 25, model)\n",
    "# a = getParamESC('RCParam', 20, model)\n",
    "# b = getParamESC('RCParam', 22, model)\n",
    "# c = getParamESC('RCParam', 25, model)\n",
    "# print(a)\n",
    "# print(b)\n",
    "# print(c)\n",
    "# x = [20,22,25]\n",
    "# y = [a[0], b[0], c[0]]\n",
    "# import matplotlib.pyplot as plt\n",
    "# plt.plot(x,y)\n",
    "# np.exp(-60/abs(getParamESC('RCParam',25,model)))\n",
    "# np.sign(2)\n",
    "# RC = np.exp(-60/abs(getParamESC('RCParam',25,model))).reshape(-1,1)\n",
    "# np.diag(RC[0][0])\n",
    "from soc.getfield_mat import getfield_mat\n",
    "for name in getfield_mat(model):\n",
    "    if name != 'name':\n",
    "        print(name, getParamESC(name, 25, model).shape)\n"
   ]
  },
  {
   "cell_type": "code",
   "execution_count": null,
   "metadata": {},
   "outputs": [],
   "source": []
  },
  {
   "cell_type": "code",
   "execution_count": 9,
   "metadata": {},
   "outputs": [
    {
     "data": {
      "text/plain": [
       "[0, 1, 2]"
      ]
     },
     "execution_count": 9,
     "metadata": {},
     "output_type": "execute_result"
    }
   ],
   "source": [
    "ind = np.array([[1,2],[3,4],[5,6]])\n",
    "irInd = range(0, 3)\n",
    "list(irInd)"
   ]
  },
  {
   "cell_type": "code",
   "execution_count": 10,
   "metadata": {},
   "outputs": [
    {
     "data": {
      "text/plain": [
       "array([0.00672293])"
      ]
     },
     "execution_count": 10,
     "metadata": {},
     "output_type": "execute_result"
    }
   ],
   "source": [
    "from soc.OCVfromSOCtemp import OCVfromSOCtemp\n",
    "from soc.SOCfromOCVtemp import SOCfromOCVtemp\n",
    "import scipy.io as scio\n",
    "\n",
    "matfile = './soc/280Ahmodel.mat'\n",
    "model = scio.loadmat(matfile)['model']\n",
    "OCVfromSOCtemp(-0.5, 22, model)\n",
    "SOCfromOCVtemp(2.8, 22, model)"
   ]
  },
  {
   "cell_type": "code",
   "execution_count": 2,
   "metadata": {},
   "outputs": [
    {
     "data": {
      "text/plain": [
       "1"
      ]
     },
     "execution_count": 2,
     "metadata": {},
     "output_type": "execute_result"
    }
   ],
   "source": [
    "from soc.ekfData import ekfData\n",
    "ekfData = ekfData(1,1,1,\n",
    "                  2,\n",
    "                  3,\n",
    "                  4,\n",
    "                  5,6,7,8,9)\n",
    "ekfData.irInd"
   ]
  },
  {
   "cell_type": "code",
   "execution_count": 1,
   "metadata": {},
   "outputs": [
    {
     "data": {
      "text/plain": [
       "[array([[0., 0., 0.]]), 0, array([[0.05891613]])]"
      ]
     },
     "execution_count": 1,
     "metadata": {},
     "output_type": "execute_result"
    }
   ],
   "source": [
    "from soc.initEKF import initEKF\n",
    "import scipy.io as scio\n",
    "matfile = './soc/280Ahmodel.mat'\n",
    "model = scio.loadmat(matfile)['model']\n",
    "ekfData = initEKF(3.2, 25, 1,1,1, model)\n",
    "ekfData.xhat"
   ]
  },
  {
   "cell_type": "code",
   "execution_count": 9,
   "metadata": {},
   "outputs": [
    {
     "data": {
      "text/plain": [
       "matrix([[1., 1.]])"
      ]
     },
     "execution_count": 9,
     "metadata": {},
     "output_type": "execute_result"
    }
   ],
   "source": [
    "import numpy as np\n",
    "nx = len(ekfData.xhat)\n",
    "np.zeros((nx, nx))\n",
    "((np.matrix(np.zeros((1, nx))))+1)*((np.array(np.zeros((nx, 1))))+1)\n",
    "((np.matrix(np.zeros((nx, nx))))+1)[tuple(i), tuple([1,2])]"
   ]
  },
  {
   "cell_type": "code",
   "execution_count": 22,
   "metadata": {},
   "outputs": [
    {
     "data": {
      "text/plain": [
       "matrix([[0, 2, 3],\n",
       "        [4, 0, 6],\n",
       "        [7, 8, 9]])"
      ]
     },
     "execution_count": 22,
     "metadata": {},
     "output_type": "execute_result"
    }
   ],
   "source": [
    "import numpy as np\n",
    "m = np.matrix([\n",
    "               [1,2,3],\n",
    "               [4,5,6],\n",
    "               [7,8,9],\n",
    "               ])\n",
    "p = m[i, :]\n",
    "p = p[:, i]\n",
    "q = m\n",
    "q[[0,1], [0,1]] = 0\n",
    "q"
   ]
  },
  {
   "cell_type": "code",
   "execution_count": 14,
   "metadata": {},
   "outputs": [
    {
     "name": "stdout",
     "output_type": "stream",
     "text": [
      "25\n",
      "1\n"
     ]
    },
    {
     "ename": "IndexError",
     "evalue": "index 1 is out of bounds for axis 0 with size 1",
     "output_type": "error",
     "traceback": [
      "\u001b[1;31m---------------------------------------------------------------------------\u001b[0m",
      "\u001b[1;31mIndexError\u001b[0m                                Traceback (most recent call last)",
      "\u001b[1;32mC:\\Users\\AWFULJ~1\\AppData\\Local\\Temp/ipykernel_9352/1521942511.py\u001b[0m in \u001b[0;36m<module>\u001b[1;34m\u001b[0m\n\u001b[0;32m     40\u001b[0m     \u001b[0mmodel\u001b[0m \u001b[1;33m=\u001b[0m \u001b[0mscio\u001b[0m\u001b[1;33m.\u001b[0m\u001b[0mloadmat\u001b[0m\u001b[1;33m(\u001b[0m\u001b[0mmatfile\u001b[0m\u001b[1;33m)\u001b[0m\u001b[1;33m[\u001b[0m\u001b[1;34m'model'\u001b[0m\u001b[1;33m]\u001b[0m\u001b[1;33m\u001b[0m\u001b[1;33m\u001b[0m\u001b[0m\n\u001b[0;32m     41\u001b[0m     \u001b[0mekfData\u001b[0m \u001b[1;33m=\u001b[0m \u001b[0minitEKF\u001b[0m\u001b[1;33m(\u001b[0m\u001b[1;36m3.2\u001b[0m\u001b[1;33m,\u001b[0m \u001b[1;36m25\u001b[0m\u001b[1;33m,\u001b[0m \u001b[1;36m1\u001b[0m\u001b[1;33m,\u001b[0m\u001b[1;36m1\u001b[0m\u001b[1;33m,\u001b[0m\u001b[1;36m1\u001b[0m\u001b[1;33m,\u001b[0m \u001b[0mmodel\u001b[0m\u001b[1;33m)\u001b[0m\u001b[1;33m\u001b[0m\u001b[1;33m\u001b[0m\u001b[0m\n\u001b[1;32m---> 42\u001b[1;33m     \u001b[0miterEKF\u001b[0m\u001b[1;33m(\u001b[0m\u001b[1;36m3.2\u001b[0m\u001b[1;33m,\u001b[0m\u001b[1;36m0\u001b[0m\u001b[1;33m,\u001b[0m \u001b[1;36m25\u001b[0m\u001b[1;33m,\u001b[0m \u001b[1;36m60\u001b[0m\u001b[1;33m,\u001b[0m \u001b[0mekfData\u001b[0m\u001b[1;33m)\u001b[0m\u001b[1;33m\u001b[0m\u001b[1;33m\u001b[0m\u001b[0m\n\u001b[0m\u001b[0;32m     43\u001b[0m \u001b[1;33m\u001b[0m\u001b[0m\n\u001b[0;32m     44\u001b[0m \u001b[1;33m\u001b[0m\u001b[0m\n",
      "\u001b[1;32mC:\\Users\\AWFULJ~1\\AppData\\Local\\Temp/ipykernel_9352/1521942511.py\u001b[0m in \u001b[0;36miterEKF\u001b[1;34m(vk, ik, Tk, deltat, ekfData)\u001b[0m\n\u001b[0;32m      5\u001b[0m     \u001b[0mmodel\u001b[0m \u001b[1;33m=\u001b[0m \u001b[0mekfData\u001b[0m\u001b[1;33m.\u001b[0m\u001b[0mmodel\u001b[0m\u001b[1;33m\u001b[0m\u001b[1;33m\u001b[0m\u001b[0m\n\u001b[0;32m      6\u001b[0m     \u001b[0mprint\u001b[0m\u001b[1;33m(\u001b[0m\u001b[0mTk\u001b[0m\u001b[1;33m)\u001b[0m\u001b[1;33m\u001b[0m\u001b[1;33m\u001b[0m\u001b[0m\n\u001b[1;32m----> 7\u001b[1;33m     \u001b[0mQ\u001b[0m  \u001b[1;33m=\u001b[0m \u001b[0mgetParamESC\u001b[0m\u001b[1;33m(\u001b[0m\u001b[1;34m'QParam'\u001b[0m\u001b[1;33m,\u001b[0m\u001b[0mTk\u001b[0m\u001b[1;33m,\u001b[0m\u001b[0mmodel\u001b[0m\u001b[1;33m)\u001b[0m\u001b[1;33m\u001b[0m\u001b[1;33m\u001b[0m\u001b[0m\n\u001b[0m\u001b[0;32m      8\u001b[0m     \u001b[0mG\u001b[0m  \u001b[1;33m=\u001b[0m \u001b[0mgetParamESC\u001b[0m\u001b[1;33m(\u001b[0m\u001b[1;34m'GParam'\u001b[0m\u001b[1;33m,\u001b[0m\u001b[0mTk\u001b[0m\u001b[1;33m,\u001b[0m\u001b[0mmodel\u001b[0m\u001b[1;33m)\u001b[0m\u001b[1;33m\u001b[0m\u001b[1;33m\u001b[0m\u001b[0m\n\u001b[0;32m      9\u001b[0m     \u001b[0mM\u001b[0m  \u001b[1;33m=\u001b[0m \u001b[0mgetParamESC\u001b[0m\u001b[1;33m(\u001b[0m\u001b[1;34m'MParam'\u001b[0m\u001b[1;33m,\u001b[0m\u001b[0mTk\u001b[0m\u001b[1;33m,\u001b[0m\u001b[0mmodel\u001b[0m\u001b[1;33m)\u001b[0m\u001b[1;33m\u001b[0m\u001b[1;33m\u001b[0m\u001b[0m\n",
      "\u001b[1;32mc:\\Users\\AwfulJamBalaYa\\iCloudDrive\\Docs\\TMRWork\\AutoDiagnose\\soc\\getParamESC.py\u001b[0m in \u001b[0;36mgetParamESC\u001b[1;34m(paramName, temp, model)\u001b[0m\n\u001b[0;32m     35\u001b[0m                     \u001b[0mtheParam\u001b[0m \u001b[1;33m=\u001b[0m \u001b[0mtheParamData\u001b[0m\u001b[1;33m[\u001b[0m\u001b[0mind\u001b[0m\u001b[1;33m[\u001b[0m\u001b[1;36m0\u001b[0m\u001b[1;33m]\u001b[0m\u001b[1;33m]\u001b[0m\u001b[1;33m\u001b[0m\u001b[1;33m\u001b[0m\u001b[0m\n\u001b[0;32m     36\u001b[0m                 \u001b[1;32melse\u001b[0m\u001b[1;33m:\u001b[0m\u001b[1;33m\u001b[0m\u001b[1;33m\u001b[0m\u001b[0m\n\u001b[1;32m---> 37\u001b[1;33m                     \u001b[0mtheParam\u001b[0m \u001b[1;33m=\u001b[0m \u001b[0mtheParamData\u001b[0m\u001b[1;33m[\u001b[0m\u001b[0mind\u001b[0m\u001b[1;33m[\u001b[0m\u001b[1;36m0\u001b[0m\u001b[1;33m]\u001b[0m\u001b[1;33m,\u001b[0m \u001b[1;33m:\u001b[0m\u001b[1;33m]\u001b[0m\u001b[1;33m\u001b[0m\u001b[1;33m\u001b[0m\u001b[0m\n\u001b[0m\u001b[0;32m     38\u001b[0m             \u001b[1;32melse\u001b[0m\u001b[1;33m:\u001b[0m\u001b[1;33m\u001b[0m\u001b[1;33m\u001b[0m\u001b[0m\n\u001b[0;32m     39\u001b[0m                 \u001b[0mprint\u001b[0m\u001b[1;33m(\u001b[0m\u001b[1;34m'2'\u001b[0m\u001b[1;33m)\u001b[0m\u001b[1;33m\u001b[0m\u001b[1;33m\u001b[0m\u001b[0m\n",
      "\u001b[1;31mIndexError\u001b[0m: index 1 is out of bounds for axis 0 with size 1"
     ]
    }
   ],
   "source": [
    "from soc.getParamESC import getParamESC\n",
    "import numpy as np\n",
    "\n",
    "def iterEKF(vk, ik, Tk, deltat, ekfData):\n",
    "    model = ekfData.model\n",
    "    print(Tk)\n",
    "    Q  = getParamESC('QParam',Tk,model)\n",
    "    G  = getParamESC('GParam',Tk,model)\n",
    "    M  = getParamESC('MParam',Tk,model)\n",
    "    M0 = getParamESC('M0Param',Tk,model)\n",
    "    RC = np.exp(-deltat/abs(getParamESC('RCParam',Tk,model))).reshape(-1,1)\n",
    "    R  = getParamESC('RParam',Tk,model).reshape(-1,1)\n",
    "    R0 = getParamESC('R0Param',Tk,model)\n",
    "    eta = getParamESC('etaParam',Tk,model)\n",
    "    if ik < 0:\n",
    "        ik = ik*eta\n",
    "\n",
    "    I = ekfData.priorI\n",
    "    SigmaX = ekfData.SigmaX\n",
    "    SigmaV = ekfData.SigmaV\n",
    "    SigmaW = ekfData.SigmaW\n",
    "    xhat = ekfData.xhat\n",
    "    irInd = ekfData.irInd\n",
    "    hkInd = ekfData.hkInd\n",
    "    zkInd = ekfData.zkInd\n",
    "    print(Q)\n",
    "    if abs(ik) > Q/100:\n",
    "        ekfData.signIk = np.sign(ik)\n",
    "    \n",
    "    nx = len(xhat)\n",
    "    Ahat = np.matrix(np.zeros((nx, nx)))\n",
    "    Bhat = np.matrix(np.zeros((nx, 1)))\n",
    "    #Ahat[irInd, irInd] = np.diag(RC[0][0])\n",
    "    print(Ahat)\n",
    "\n",
    "if __name__ == '__main__':\n",
    "    from soc.initEKF import initEKF\n",
    "    import scipy.io as scio\n",
    "    matfile = './soc/280Ahmodel1.mat'\n",
    "    model = scio.loadmat(matfile)['model']\n",
    "    ekfData = initEKF(3.2, 25, 1,1,1, model)\n",
    "    iterEKF(3.2,0, 25, 60, ekfData)\n",
    "    \n",
    "    "
   ]
  },
  {
   "cell_type": "code",
   "execution_count": null,
   "metadata": {},
   "outputs": [],
   "source": []
  },
  {
   "cell_type": "code",
   "execution_count": 11,
   "metadata": {},
   "outputs": [
    {
     "name": "stdout",
     "output_type": "stream",
     "text": [
      "约翰 说：我今年19岁\n"
     ]
    }
   ],
   "source": [
    "class student(object):\n",
    "    def speak(self): ## 哪个对象调用了这个方法，self就是那个对象；可以把self理解为一个形参\n",
    "        print(\"%s 说：我今年%s岁\" % (self.name, self.age))\n",
    "#类student 实例化一个对象john\n",
    "john = student()\n",
    "# 给对象添加属性\n",
    "john.name = \"约翰\"\n",
    "john.age = 19\n",
    "# 调用类中的 speak()方法\n",
    "john.speak()\n",
    "    "
   ]
  },
  {
   "cell_type": "code",
   "execution_count": 13,
   "metadata": {},
   "outputs": [
    {
     "name": "stdout",
     "output_type": "stream",
     "text": [
      "约翰 说：我今年19岁\n"
     ]
    }
   ],
   "source": [
    "class student(object):\n",
    "    # 定义构造方法\n",
    "    def __init__(self, n, a): #__init__() 是类的初始化方法；它在类的实例化操作后 会自动调用，不需要手动调用；\n",
    "    # 设置属性\n",
    "        self.name = n\n",
    "        self.age = a\n",
    "        # 定义普通方法\n",
    "    def speak(self):\n",
    "        print(\"%s 说：我今年%s岁\" % (self.name, self.age))\n",
    "#类student 实例化一个对象john\n",
    "john = student(\"约翰\",19)\n",
    "# 调用类中的 speak()方法\n",
    "john.speak()"
   ]
  },
  {
   "cell_type": "code",
   "execution_count": null,
   "metadata": {},
   "outputs": [],
   "source": [
    "class student(object):\n",
    "    # 定义构造方法\n",
    "    def __init__(self, n, a):\n",
    "    # 设置属性\n",
    "        self.name = n\n",
    "        self.age = a\n",
    "    # 输出一个字符串(追踪对象属性信息变化)\n",
    "    def __str__(self): # __str__(self)不可以添加参数(形参)\n",
    "        return \"名字：%s 年龄：%d\" % (self.name, self.age)\n",
    "# 实例化一个对象john\n",
    "john = student(\"约翰\",19)\n",
    "# 当使用print输出对象时，只要自己定义了__str__(self)方法，那么就会打印从在这个方法中return的数据\n",
    "print(john)"
   ]
  }
 ],
 "metadata": {
  "kernelspec": {
   "display_name": "Python 3.9.7 ('base')",
   "language": "python",
   "name": "python3"
  },
  "language_info": {
   "codemirror_mode": {
    "name": "ipython",
    "version": 3
   },
   "file_extension": ".py",
   "mimetype": "text/x-python",
   "name": "python",
   "nbconvert_exporter": "python",
   "pygments_lexer": "ipython3",
   "version": "3.9.7"
  },
  "orig_nbformat": 4,
  "vscode": {
   "interpreter": {
    "hash": "6429919fe5eee10fa3db4376c75d0431aac4ee64633f3fde6de3e71a7b7c5c41"
   }
  }
 },
 "nbformat": 4,
 "nbformat_minor": 2
}
