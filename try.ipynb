{
 "cells": [
  {
   "cell_type": "code",
   "execution_count": null,
   "metadata": {},
   "outputs": [],
   "source": [
    "from energy.maximum_energy_calculate import maximum_energy_calculate\n",
    "import pandas as pd\n",
    "plc = [40]\n",
    "ts = maximum_energy_calculate(plc)\n",
    "print(ts)\n",
    "if isinstance(ts, pd.DataFrame):\n",
    "    ts.to_csv('try.csv')"
   ]
  },
  {
   "cell_type": "code",
   "execution_count": null,
   "metadata": {},
   "outputs": [],
   "source": [
    "from clock.get_current_time import get_current_time\n",
    "from clock.time_count import time_count\n",
    "stime = '2022-09-04 '+get_current_time()[1]\n",
    "end_time = get_current_time()[0]\n",
    "time_count(stime, end_time)"
   ]
  },
  {
   "cell_type": "code",
   "execution_count": null,
   "metadata": {},
   "outputs": [],
   "source": [
    "from energy.maximum_energy_calculate import maximum_energy_calculate\n",
    "from energy.median_energy_calculate import median_energy_calculate\n",
    "from clock.get_current_time import get_current_time\n",
    "import datetime\n",
    "from settings import fmt1\n",
    "start_time = '2022-09-16 14:00:00'\n",
    "end_time = get_current_time()[0]\n",
    "median_energy_calculate(start_time, end_time, [40])"
   ]
  },
  {
   "cell_type": "code",
   "execution_count": null,
   "metadata": {},
   "outputs": [],
   "source": [
    "from mongodb.query_request import query_request\n",
    "import datetime\n",
    "from settings import fmt1, filter_for_energy_calculation\n",
    "start_time = '2022-09-15 08:00:00'\n",
    "end_time = '2022-09-15 08:05:00'\n",
    "start_time_ts = datetime.datetime.strptime(start_time, fmt1)\n",
    "end_time_ts = datetime.datetime.strptime(end_time, fmt1)\n",
    "data = query_request.datalog_query(start_time_ts, end_time_ts, [48], filter_for_energy_calculation)\n",
    "data"
   ]
  },
  {
   "cell_type": "code",
   "execution_count": null,
   "metadata": {},
   "outputs": [],
   "source": [
    "from sched import scheduler\n",
    "from clock.get_current_time import get_current_time\n",
    "from energy.energy_trigger import energy_trigger\n",
    "from apscheduler.schedulers.blocking import BlockingScheduler\n",
    "start_time = get_current_time()[0]\n",
    "def et_try():\n",
    "    print('---Begin---')\n",
    "    plc = [2]\n",
    "    flag = energy_trigger(plc)\n",
    "    print(get_current_time()[0], flag)\n",
    "    print('---end---')\n",
    "scheduler = BlockingScheduler()\n",
    "scheduler.add_job(et_try, 'interval', seconds = 2)\n",
    "scheduler.start()"
   ]
  },
  {
   "cell_type": "code",
   "execution_count": null,
   "metadata": {},
   "outputs": [],
   "source": [
    "from sched import scheduler\n",
    "from clock.get_current_time import get_current_time\n",
    "from energy.energy_trigger import energy_trigger\n",
    "from apscheduler.schedulers.blocking import BlockingScheduler\n",
    "from plcid.query_all_plc import query_all_plc\n",
    "from settings import plc_csv_file, plc_csv_path\n",
    "import pandas as pd\n",
    "start_time = get_current_time()[0]\n",
    "def diagnose_trigger_service():\n",
    "    print('---Begin---')\n",
    "    plc_update = query_all_plc()\n",
    "    df_plc = pd.read_csv(plc_csv_path+plc_csv_file)\n",
    "    plc_set = df_plc['plc'].values\n",
    "    for i in range(0, df_plc.shape[0]):\n",
    "        plc = [int(plc_set[i])]\n",
    "        print(plc)\n",
    "        flag = energy_trigger(plc)\n",
    "        print(get_current_time()[0], flag)\n",
    "    print('---end---')\n",
    "scheduler = BlockingScheduler()\n",
    "scheduler.add_job(diagnose_trigger_service, 'interval', seconds = 15)\n",
    "scheduler.start()"
   ]
  },
  {
   "cell_type": "code",
   "execution_count": 14,
   "metadata": {},
   "outputs": [],
   "source": [
    "import pandas as pd\n",
    "a = pd.DataFrame({'A':[1,2,3], 'B':[1,2,3]})\n",
    "b = pd.DataFrame({'A':[4,5,6], 'B':[4,5,6]})\n",
    "c = pd.concat([a,b], axis=0, ignore_index=True)"
   ]
  },
  {
   "cell_type": "code",
   "execution_count": null,
   "metadata": {},
   "outputs": [],
   "source": [
    "from messager.dingtalk_chatbot import dingtalkchatrobot\n",
    "import pandas as pd\n",
    "from settings import plc_csv_file, plc_csv_path\n",
    "#dingtalkchatrobot.energy_trigger_sender()\n",
    "df_plc = pd.read_csv(plc_csv_path+plc_csv_file)\n",
    "plcset = df_plc['plc'].values\n",
    "minus_set = []\n",
    "zero_set = []\n",
    "one_set = []\n",
    "for plc in plcset:\n",
    "    plc = [plc]\n",
    "    energy_flag = dingtalkchatrobot.get_trigger(plc)\n",
    "    if energy_flag == 0:\n",
    "        zero_set.append(energy_flag)\n",
    "    if energy_flag == -1:\n",
    "        zero_set.append(energy_flag)\n",
    "    if energy_flag == 1:\n",
    "        zero_set.append(energy_flag)\n",
    "print('0:', zero_set)\n",
    "print('-1:', minus_set)\n",
    "print('1:', one_set)"
   ]
  },
  {
   "cell_type": "code",
   "execution_count": null,
   "metadata": {},
   "outputs": [],
   "source": [
    "from mongodb.query_request import query_request\n",
    "from clock.get_current_time import get_current_time\n",
    "import datetime\n",
    "from settings import energy_trigger_sender_webhook, \\\n",
    "    energy_trigger_sender_secret, bot_query_dayrange, filter_for_energy_trigger, fmt1\n",
    "now_time = get_current_time()[0]\n",
    "now_time_ts = datetime.datetime.strptime(now_time, fmt1)\n",
    "start_time_ts = now_time_ts - datetime.timedelta(days=bot_query_dayrange)\n",
    "print(start_time_ts ,now_time_ts)\n",
    "data = query_request.trigger_query(start_time_ts, now_time_ts, [2], \\\n",
    "    filter_for_energy_trigger)"
   ]
  },
  {
   "cell_type": "code",
   "execution_count": null,
   "metadata": {},
   "outputs": [],
   "source": [
    "threshold = [1,1]\n",
    "max = [2,2]\n",
    "plc = [2]\n",
    "text_report = 'PLC_id:'+str(plc[0])+', '+'[充电量标准]forward:'+str(threshold[0])+', [放电量标准]reverse:'+str(threshold[0])+',\\n'\\\n",
    "                +'[24小时内最大充电量]forward:'+str(max[0])+', [24小时内最大放电量]reverse:'+str(max[1])+'.'\n",
    "print(text_report)"
   ]
  },
  {
   "cell_type": "code",
   "execution_count": null,
   "metadata": {},
   "outputs": [],
   "source": [
    "import pandas as pd\n",
    "df = pd.DataFrame({'A':[-1,-2,-3]})\n",
    "b = abs(df['A']).max()\n",
    "c = df[abs(df['A'])>1].index\n",
    "col = df.columns.get_loc('A')\n",
    "df.iloc[c.values, col] = 0\n",
    "df"
   ]
  },
  {
   "cell_type": "code",
   "execution_count": null,
   "metadata": {},
   "outputs": [],
   "source": [
    "from mongodb.query_request import query_request\n",
    "from settings import plc_csv_file, plc_csv_path, filter_for_energy_threshold, fmt1\n",
    "import pandas as pd\n",
    "from clock.get_current_time import get_current_time\n",
    "import datetime\n",
    "df_plc_list = pd.read_csv(plc_csv_path+plc_csv_file)\n",
    "plcset = df_plc_list['plc'].values\n",
    "df_thres = pd.DataFrame()\n",
    "for i in range(0, len(plcset)):\n",
    "    plc = [int(plcset[i])]\n",
    "    print(plc)\n",
    "    start_time = str(df_plc_list[df_plc_list['plc']==plc[0]]['time'].values[0])\n",
    "    start_time_ts = datetime.datetime.strptime(start_time, fmt1)\n",
    "    now_time = get_current_time()\n",
    "    now_time_ts = datetime.datetime.strptime(now_time[0], fmt1)\n",
    "    data = query_request.threshold_query(start_time_ts, now_time_ts, plc, filter_for_energy_threshold)\n",
    "    if len(data) > 0:\n",
    "        thres_f = data[0]['median_max_forward']\n",
    "        thres_r = data[0]['median_max_reverse']\n",
    "        if thres_f >= 0 and thres_r >= 0:\n",
    "            print(start_time_ts)\n",
    "            thres_end_time_ts = start_time_ts + datetime.timedelta(days=7)\n",
    "            print(thres_end_time_ts)\n",
    "            to_append = pd.DataFrame({'plc': [plc[0]], '开始时间': [start_time_ts], '结束时间': [thres_end_time_ts], \\\n",
    "                                      '最大单次充电量': [thres_f], '最大单次放电量': [thres_r]})\n",
    "            df_thres = df_thres.append(to_append)\n",
    "df_thres = df_thres.sort_values(by = 'plc', ascending=True)\n",
    "df_thres = df_thres.reset_index(drop=True)\n",
    "df_thres = df_thres.loc[:, ~df_thres.columns.str.contains(\"^Unnamed\")]\n",
    "df_thres.to_csv('有效最大单次充放电量.csv')"
   ]
  },
  {
   "cell_type": "code",
   "execution_count": null,
   "metadata": {},
   "outputs": [],
   "source": [
    "from data.dron import dron\n",
    "data = dron.find_battery_to_check([40])"
   ]
  },
  {
   "cell_type": "code",
   "execution_count": null,
   "metadata": {},
   "outputs": [],
   "source": [
    "data['Voltage'].mean()"
   ]
  },
  {
   "cell_type": "code",
   "execution_count": null,
   "metadata": {},
   "outputs": [],
   "source": [
    "data['Voltage'].std()"
   ]
  },
  {
   "cell_type": "code",
   "execution_count": null,
   "metadata": {},
   "outputs": [],
   "source": [
    "data"
   ]
  },
  {
   "cell_type": "code",
   "execution_count": null,
   "metadata": {},
   "outputs": [],
   "source": [
    "(3.410-data['Voltage'].mean())/data['Voltage'].std()"
   ]
  },
  {
   "cell_type": "code",
   "execution_count": null,
   "metadata": {},
   "outputs": [],
   "source": [
    "2.815975*data['Voltage'].std()+data['Voltage'].mean()"
   ]
  },
  {
   "cell_type": "code",
   "execution_count": null,
   "metadata": {},
   "outputs": [],
   "source": [
    "from soc.main_entry import SOC\n",
    "import time\n",
    "from mongodb.query_request import query_request\n",
    "import importlib\n",
    "from clock.get_current_time import get_current_time\n",
    "import datetime\n",
    "import numpy as np\n",
    "\n",
    "settings = importlib.import_module('settings')\n",
    "now_time = get_current_time()[0]\n",
    "now_time = '2022-09-26 23:00:00'\n",
    "plc = [40]\n",
    "now_time_ts = datetime.datetime.strptime(now_time, settings.fmt1)\n",
    "start_time_ts = now_time_ts - datetime.timedelta(days=settings.day_interval)\n",
    "data = query_request.datalog_query(start_time_ts, now_time_ts, plc, \\\n",
    "                                    settings.filter_for_data_collection)\n",
    "for i in range(0, len(data)):\n",
    "    theTime = (data[i]['time']).strftime('%Y-%m-%d %H:%M:%S')\n",
    "    theVolt = np.int16(data[i]['data']['1组1号电池电压'])/1000\n",
    "    theCurr = np.int16(data[i]['data']['PCS电池电流'])/10\n",
    "    theTemp = 25\n",
    "    if i > 20:\n",
    "        theStatus = -1\n",
    "    else:\n",
    "        theStatus = 0\n",
    "    print(theTime, theVolt, theCurr, theTemp, theStatus)\n",
    "    soc = SOC(40, theTime, theVolt, theCurr, theTemp, theStatus)\n",
    "    print(soc.predict_soc)"
   ]
  }
 ],
 "metadata": {
  "kernelspec": {
   "display_name": "Python 3.9.7 ('base')",
   "language": "python",
   "name": "python3"
  },
  "language_info": {
   "codemirror_mode": {
    "name": "ipython",
    "version": 3
   },
   "file_extension": ".py",
   "mimetype": "text/x-python",
   "name": "python",
   "nbconvert_exporter": "python",
   "pygments_lexer": "ipython3",
   "version": "3.9.7"
  },
  "orig_nbformat": 4,
  "vscode": {
   "interpreter": {
    "hash": "6429919fe5eee10fa3db4376c75d0431aac4ee64633f3fde6de3e71a7b7c5c41"
   }
  }
 },
 "nbformat": 4,
 "nbformat_minor": 2
}
