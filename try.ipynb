{
 "cells": [
  {
   "cell_type": "code",
   "execution_count": null,
   "metadata": {},
   "outputs": [],
   "source": [
    "from energy.maximum_energy_calculate import maximum_energy_calculate\n",
    "import pandas as pd\n",
    "plc = [40]\n",
    "ts = maximum_energy_calculate(plc)\n",
    "print(ts)\n",
    "if isinstance(ts, pd.DataFrame):\n",
    "    ts.to_csv('try.csv')"
   ]
  },
  {
   "cell_type": "code",
   "execution_count": 1,
   "metadata": {},
   "outputs": [
    {
     "data": {
      "text/plain": [
       "0"
      ]
     },
     "execution_count": 1,
     "metadata": {},
     "output_type": "execute_result"
    }
   ],
   "source": [
    "from clock.get_current_time import get_current_time\n",
    "from clock.time_count import time_count\n",
    "stime = '2022-09-04 '+get_current_time()[1]\n",
    "end_time = get_current_time()[0]\n",
    "time_count(stime, end_time)"
   ]
  },
  {
   "cell_type": "code",
   "execution_count": 5,
   "metadata": {},
   "outputs": [
    {
     "name": "stdout",
     "output_type": "stream",
     "text": [
      "***connected!***\n",
      "***data queried!***\n",
      "                 time  current  forward  reverse  forward.diff  reverse.diff\n",
      "0 2022-09-17 00:01:42    -8.16  81666.0  69376.0           NaN           NaN\n",
      "1 2022-09-17 00:30:42    -7.96  81694.0  69376.0          28.0           0.0\n",
      "                 time  current  forward  reverse  forward.diff  reverse.diff\n",
      "0 2022-09-17 00:01:42    -8.16  81666.0  69376.0           NaN           NaN\n",
      "1 2022-09-17 00:30:42    -7.96  81694.0  69376.0          28.0           0.0\n"
     ]
    },
    {
     "data": {
      "text/plain": [
       "[28.0, 0.0]"
      ]
     },
     "execution_count": 5,
     "metadata": {},
     "output_type": "execute_result"
    }
   ],
   "source": [
    "from energy.maximum_energy_calculate import maximum_energy_calculate\n",
    "from energy.median_energy_calculate import median_energy_calculate\n",
    "from clock.get_current_time import get_current_time\n",
    "import datetime\n",
    "from settings import fmt1\n",
    "start_time = '2022-09-16 14:00:00'\n",
    "end_time = get_current_time()[0]\n",
    "median_energy_calculate(start_time, end_time, [40])"
   ]
  },
  {
   "cell_type": "code",
   "execution_count": 2,
   "metadata": {},
   "outputs": [
    {
     "name": "stdout",
     "output_type": "stream",
     "text": [
      "***connected!***\n",
      "***data queried!***\n"
     ]
    },
    {
     "data": {
      "text/plain": [
       "[{'PLC_id': 48,\n",
       "  'time': datetime.datetime(2022, 9, 15, 8, 0, 20),\n",
       "  'data': {'PCS电池电流': 0,\n",
       "   '正向有功总电能': 33,\n",
       "   '正向有功总电能2': 43665,\n",
       "   '反向总有功电能': 29,\n",
       "   '反向总有功电能2': 32985}},\n",
       " {'PLC_id': 48,\n",
       "  'time': datetime.datetime(2022, 9, 15, 8, 1, 20),\n",
       "  'data': {'PCS电池电流': 0,\n",
       "   '正向有功总电能': 33,\n",
       "   '正向有功总电能2': 43665,\n",
       "   '反向总有功电能': 29,\n",
       "   '反向总有功电能2': 32985}},\n",
       " {'PLC_id': 48,\n",
       "  'time': datetime.datetime(2022, 9, 15, 8, 2, 20),\n",
       "  'data': {'PCS电池电流': 7436,\n",
       "   '正向有功总电能': 33,\n",
       "   '正向有功总电能2': 43665,\n",
       "   '反向总有功电能': 33,\n",
       "   '反向总有功电能2': 43665}},\n",
       " {'PLC_id': 48,\n",
       "  'time': datetime.datetime(2022, 9, 15, 8, 3, 20),\n",
       "  'data': {'PCS电池电流': 7441,\n",
       "   '正向有功总电能': 33,\n",
       "   '正向有功总电能2': 43665,\n",
       "   '反向总有功电能': 29,\n",
       "   '反向总有功电能2': 33075}},\n",
       " {'PLC_id': 48,\n",
       "  'time': datetime.datetime(2022, 9, 15, 8, 4, 20),\n",
       "  'data': {'PCS电池电流': 7416,\n",
       "   '正向有功总电能': 33,\n",
       "   '正向有功总电能2': 43665,\n",
       "   '反向总有功电能': 29,\n",
       "   '反向总有功电能2': 33195}}]"
      ]
     },
     "execution_count": 2,
     "metadata": {},
     "output_type": "execute_result"
    }
   ],
   "source": [
    "from mongodb.query_request import query_request\n",
    "import datetime\n",
    "from settings import fmt1, filter_for_energy_calculation\n",
    "start_time = '2022-09-15 08:00:00'\n",
    "end_time = '2022-09-15 08:05:00'\n",
    "start_time_ts = datetime.datetime.strptime(start_time, fmt1)\n",
    "end_time_ts = datetime.datetime.strptime(end_time, fmt1)\n",
    "data = query_request.datalog_query(start_time_ts, end_time_ts, [48], filter_for_energy_calculation)\n",
    "data"
   ]
  },
  {
   "cell_type": "code",
   "execution_count": null,
   "metadata": {},
   "outputs": [],
   "source": [
    "from sched import scheduler\n",
    "from clock.get_current_time import get_current_time\n",
    "from energy.energy_trigger import energy_trigger\n",
    "from apscheduler.schedulers.blocking import BlockingScheduler\n",
    "start_time = get_current_time()[0]\n",
    "def et_try():\n",
    "    print('---Begin---')\n",
    "    plc = [2]\n",
    "    flag = energy_trigger(plc)\n",
    "    print(get_current_time()[0], flag)\n",
    "    print('---end---')\n",
    "scheduler = BlockingScheduler()\n",
    "scheduler.add_job(et_try, 'interval', seconds = 2)\n",
    "scheduler.start()"
   ]
  },
  {
   "cell_type": "code",
   "execution_count": null,
   "metadata": {},
   "outputs": [],
   "source": [
    "from sched import scheduler\n",
    "from clock.get_current_time import get_current_time\n",
    "from energy.energy_trigger import energy_trigger\n",
    "from apscheduler.schedulers.blocking import BlockingScheduler\n",
    "from plcid.query_all_plc import query_all_plc\n",
    "from settings import plc_csv_file, plc_csv_path\n",
    "import pandas as pd\n",
    "start_time = get_current_time()[0]\n",
    "def diagnose_trigger_service():\n",
    "    print('---Begin---')\n",
    "    plc_update = query_all_plc()\n",
    "    df_plc = pd.read_csv(plc_csv_path+plc_csv_file)\n",
    "    plc_set = df_plc['plc'].values\n",
    "    for i in range(0, df_plc.shape[0]):\n",
    "        plc = [int(plc_set[i])]\n",
    "        print(plc)\n",
    "        flag = energy_trigger(plc)\n",
    "        print(get_current_time()[0], flag)\n",
    "    print('---end---')\n",
    "scheduler = BlockingScheduler()\n",
    "scheduler.add_job(diagnose_trigger_service, 'interval', seconds = 15)\n",
    "scheduler.start()"
   ]
  },
  {
   "cell_type": "code",
   "execution_count": 14,
   "metadata": {},
   "outputs": [],
   "source": [
    "import pandas as pd\n",
    "a = pd.DataFrame({'A':[1,2,3], 'B':[1,2,3]})\n",
    "b = pd.DataFrame({'A':[4,5,6], 'B':[4,5,6]})\n",
    "c = pd.concat([a,b], axis=0, ignore_index=True)"
   ]
  },
  {
   "cell_type": "code",
   "execution_count": null,
   "metadata": {},
   "outputs": [],
   "source": [
    "from messager.dingtalk_chatbot import dingtalkchatrobot\n",
    "import pandas as pd\n",
    "from settings import plc_csv_file, plc_csv_path\n",
    "#dingtalkchatrobot.energy_trigger_sender()\n",
    "df_plc = pd.read_csv(plc_csv_path+plc_csv_file)\n",
    "plcset = df_plc['plc'].values\n",
    "minus_set = []\n",
    "zero_set = []\n",
    "one_set = []\n",
    "for plc in plcset:\n",
    "    plc = [plc]\n",
    "    energy_flag = dingtalkchatrobot.get_trigger(plc)\n",
    "    if energy_flag == 0:\n",
    "        zero_set.append(energy_flag)\n",
    "    if energy_flag == -1:\n",
    "        zero_set.append(energy_flag)\n",
    "    if energy_flag == 1:\n",
    "        zero_set.append(energy_flag)\n",
    "print('0:', zero_set)\n",
    "print('-1:', minus_set)\n",
    "print('1:', one_set)"
   ]
  },
  {
   "cell_type": "code",
   "execution_count": 1,
   "metadata": {},
   "outputs": [
    {
     "name": "stdout",
     "output_type": "stream",
     "text": [
      "2022-09-13 11:28:56 2022-09-14 11:28:56\n",
      "***connected!***\n",
      "***trigger queried!***\n"
     ]
    }
   ],
   "source": [
    "from mongodb.query_request import query_request\n",
    "from clock.get_current_time import get_current_time\n",
    "import datetime\n",
    "from settings import energy_trigger_sender_webhook, \\\n",
    "    energy_trigger_sender_secret, bot_query_dayrange, filter_for_energy_trigger, fmt1\n",
    "now_time = get_current_time()[0]\n",
    "now_time_ts = datetime.datetime.strptime(now_time, fmt1)\n",
    "start_time_ts = now_time_ts - datetime.timedelta(days=bot_query_dayrange)\n",
    "print(start_time_ts ,now_time_ts)\n",
    "data = query_request.trigger_query(start_time_ts, now_time_ts, [2], \\\n",
    "    filter_for_energy_trigger)"
   ]
  },
  {
   "cell_type": "code",
   "execution_count": 6,
   "metadata": {},
   "outputs": [
    {
     "name": "stdout",
     "output_type": "stream",
     "text": [
      "PLC_id:2, [充电量标准]forward:1, [放电量标准]reverse:1,\n",
      "[24小时内最大充电量]forward:2, [24小时内最大放电量]reverse:2.\n"
     ]
    }
   ],
   "source": [
    "threshold = [1,1]\n",
    "max = [2,2]\n",
    "plc = [2]\n",
    "text_report = 'PLC_id:'+str(plc[0])+', '+'[充电量标准]forward:'+str(threshold[0])+', [放电量标准]reverse:'+str(threshold[0])+',\\n'\\\n",
    "                +'[24小时内最大充电量]forward:'+str(max[0])+', [24小时内最大放电量]reverse:'+str(max[1])+'.'\n",
    "print(text_report)"
   ]
  },
  {
   "cell_type": "code",
   "execution_count": 2,
   "metadata": {},
   "outputs": [
    {
     "data": {
      "text/html": [
       "<div>\n",
       "<style scoped>\n",
       "    .dataframe tbody tr th:only-of-type {\n",
       "        vertical-align: middle;\n",
       "    }\n",
       "\n",
       "    .dataframe tbody tr th {\n",
       "        vertical-align: top;\n",
       "    }\n",
       "\n",
       "    .dataframe thead th {\n",
       "        text-align: right;\n",
       "    }\n",
       "</style>\n",
       "<table border=\"1\" class=\"dataframe\">\n",
       "  <thead>\n",
       "    <tr style=\"text-align: right;\">\n",
       "      <th></th>\n",
       "      <th>A</th>\n",
       "    </tr>\n",
       "  </thead>\n",
       "  <tbody>\n",
       "    <tr>\n",
       "      <th>0</th>\n",
       "      <td>-1</td>\n",
       "    </tr>\n",
       "    <tr>\n",
       "      <th>1</th>\n",
       "      <td>0</td>\n",
       "    </tr>\n",
       "    <tr>\n",
       "      <th>2</th>\n",
       "      <td>0</td>\n",
       "    </tr>\n",
       "  </tbody>\n",
       "</table>\n",
       "</div>"
      ],
      "text/plain": [
       "   A\n",
       "0 -1\n",
       "1  0\n",
       "2  0"
      ]
     },
     "execution_count": 2,
     "metadata": {},
     "output_type": "execute_result"
    }
   ],
   "source": [
    "import pandas as pd\n",
    "df = pd.DataFrame({'A':[-1,-2,-3]})\n",
    "b = abs(df['A']).max()\n",
    "c = df[abs(df['A'])>1].index\n",
    "col = df.columns.get_loc('A')\n",
    "df.iloc[c.values, col] = 0\n",
    "df"
   ]
  },
  {
   "cell_type": "code",
   "execution_count": 18,
   "metadata": {},
   "outputs": [
    {
     "name": "stdout",
     "output_type": "stream",
     "text": [
      "[2]\n",
      "***connected!***\n",
      "***threshold queried!***\n",
      "[4]\n",
      "***connected!***\n",
      "***threshold queried!***\n",
      "[5]\n",
      "***connected!***\n",
      "***threshold queried!***\n",
      "[7]\n",
      "***connected!***\n",
      "***threshold queried!***\n",
      "[9]\n",
      "***connected!***\n",
      "***threshold queried!***\n",
      "2022-09-06 12:42:20\n",
      "2022-09-13 12:42:20\n",
      "[17]\n",
      "***connected!***\n",
      "***threshold queried!***\n",
      "[19]\n",
      "***connected!***\n",
      "***threshold queried!***\n",
      "2022-09-06 12:42:20\n",
      "2022-09-13 12:42:20\n",
      "[18]\n",
      "***connected!***\n",
      "***threshold queried!***\n",
      "2022-09-06 12:42:20\n",
      "2022-09-13 12:42:20\n",
      "[8]\n",
      "***connected!***\n",
      "***threshold queried!***\n",
      "[14]\n",
      "***connected!***\n",
      "***threshold queried!***\n",
      "[21]\n",
      "***connected!***\n",
      "***threshold queried!***\n",
      "2022-09-06 12:42:20\n",
      "2022-09-13 12:42:20\n",
      "[22]\n",
      "***connected!***\n",
      "***threshold queried!***\n",
      "[24]\n",
      "***connected!***\n",
      "***threshold queried!***\n",
      "[25]\n",
      "***connected!***\n",
      "***threshold queried!***\n",
      "[28]\n",
      "***connected!***\n",
      "***threshold queried!***\n",
      "[33]\n",
      "***connected!***\n",
      "***threshold queried!***\n",
      "2022-09-06 12:42:20\n",
      "2022-09-13 12:42:20\n",
      "[32]\n",
      "***connected!***\n",
      "***threshold queried!***\n",
      "2022-09-06 12:42:20\n",
      "2022-09-13 12:42:20\n",
      "[40]\n",
      "***connected!***\n",
      "***threshold queried!***\n",
      "2022-09-15 00:08:14\n",
      "2022-09-22 00:08:14\n",
      "[37]\n",
      "***connected!***\n",
      "***threshold queried!***\n",
      "[38]\n",
      "***connected!***\n",
      "***threshold queried!***\n",
      "[41]\n",
      "***connected!***\n",
      "***threshold queried!***\n",
      "2022-09-06 12:42:20\n",
      "2022-09-13 12:42:20\n",
      "[43]\n",
      "***connected!***\n",
      "***threshold queried!***\n",
      "2022-09-07 12:42:20\n",
      "2022-09-14 12:42:20\n",
      "[44]\n",
      "***connected!***\n",
      "***threshold queried!***\n",
      "2022-09-07 12:42:20\n",
      "2022-09-14 12:42:20\n",
      "[45]\n",
      "***connected!***\n",
      "***threshold queried!***\n",
      "[46]\n",
      "***connected!***\n",
      "***threshold queried!***\n",
      "[47]\n",
      "***connected!***\n",
      "***threshold queried!***\n",
      "2022-09-06 12:42:20\n",
      "2022-09-13 12:42:20\n",
      "[48]\n",
      "***connected!***\n",
      "***threshold queried!***\n",
      "2022-09-06 12:42:20\n",
      "2022-09-13 12:42:20\n",
      "[50]\n",
      "***connected!***\n",
      "***threshold queried!***\n",
      "[51]\n",
      "***connected!***\n",
      "***threshold queried!***\n",
      "[53]\n",
      "***connected!***\n",
      "***threshold queried!***\n",
      "2022-09-06 12:42:20\n",
      "2022-09-13 12:42:20\n",
      "[54]\n",
      "***connected!***\n",
      "***threshold queried!***\n",
      "2022-09-06 12:42:20\n",
      "2022-09-13 12:42:20\n",
      "[56]\n",
      "***connected!***\n",
      "***threshold queried!***\n",
      "[57]\n",
      "***connected!***\n",
      "***threshold queried!***\n",
      "[59]\n",
      "***connected!***\n",
      "***threshold queried!***\n",
      "2022-09-16 14:08:14\n",
      "2022-09-23 14:08:14\n",
      "[60]\n",
      "***connected!***\n",
      "***threshold queried!***\n",
      "2022-09-16 14:08:14\n",
      "2022-09-23 14:08:14\n"
     ]
    }
   ],
   "source": [
    "from mongodb.query_request import query_request\n",
    "from settings import plc_csv_file, plc_csv_path, filter_for_energy_threshold, fmt1\n",
    "import pandas as pd\n",
    "from clock.get_current_time import get_current_time\n",
    "import datetime\n",
    "df_plc_list = pd.read_csv(plc_csv_path+plc_csv_file)\n",
    "plcset = df_plc_list['plc'].values\n",
    "df_thres = pd.DataFrame()\n",
    "for i in range(0, len(plcset)):\n",
    "    plc = [int(plcset[i])]\n",
    "    print(plc)\n",
    "    start_time = str(df_plc_list[df_plc_list['plc']==plc[0]]['time'].values[0])\n",
    "    start_time_ts = datetime.datetime.strptime(start_time, fmt1)\n",
    "    now_time = get_current_time()\n",
    "    now_time_ts = datetime.datetime.strptime(now_time[0], fmt1)\n",
    "    data = query_request.threshold_query(start_time_ts, now_time_ts, plc, filter_for_energy_threshold)\n",
    "    if len(data) > 0:\n",
    "        thres_f = data[0]['median_max_forward']\n",
    "        thres_r = data[0]['median_max_reverse']\n",
    "        if thres_f >= 0 and thres_r >= 0:\n",
    "            print(start_time_ts)\n",
    "            thres_end_time_ts = start_time_ts + datetime.timedelta(days=7)\n",
    "            print(thres_end_time_ts)\n",
    "            to_append = pd.DataFrame({'plc': [plc[0]], '开始时间': [start_time_ts], '结束时间': [thres_end_time_ts], \\\n",
    "                                      '最大单次充电量': [thres_f], '最大单次放电量': [thres_r]})\n",
    "            df_thres = df_thres.append(to_append)\n",
    "df_thres = df_thres.sort_values(by = 'plc', ascending=True)\n",
    "df_thres = df_thres.reset_index(drop=True)\n",
    "df_thres = df_thres.loc[:, ~df_thres.columns.str.contains(\"^Unnamed\")]\n",
    "df_thres.to_csv('有效最大单次充放电量.csv')"
   ]
  }
 ],
 "metadata": {
  "kernelspec": {
   "display_name": "Python 3.9.7 ('base')",
   "language": "python",
   "name": "python3"
  },
  "language_info": {
   "codemirror_mode": {
    "name": "ipython",
    "version": 3
   },
   "file_extension": ".py",
   "mimetype": "text/x-python",
   "name": "python",
   "nbconvert_exporter": "python",
   "pygments_lexer": "ipython3",
   "version": "3.9.7"
  },
  "orig_nbformat": 4,
  "vscode": {
   "interpreter": {
    "hash": "6429919fe5eee10fa3db4376c75d0431aac4ee64633f3fde6de3e71a7b7c5c41"
   }
  }
 },
 "nbformat": 4,
 "nbformat_minor": 2
}
