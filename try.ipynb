{
 "cells": [
  {
   "cell_type": "code",
   "execution_count": null,
   "metadata": {},
   "outputs": [],
   "source": [
    "from energy.maximum_energy_calculate import maximum_energy_calculate\n",
    "import pandas as pd\n",
    "plc = [40]\n",
    "ts = maximum_energy_calculate(plc)\n",
    "print(ts)\n",
    "if isinstance(ts, pd.DataFrame):\n",
    "    ts.to_csv('try.csv')"
   ]
  },
  {
   "cell_type": "code",
   "execution_count": 1,
   "metadata": {},
   "outputs": [
    {
     "data": {
      "text/plain": [
       "0"
      ]
     },
     "execution_count": 1,
     "metadata": {},
     "output_type": "execute_result"
    }
   ],
   "source": [
    "from clock.get_current_time import get_current_time\n",
    "from clock.time_count import time_count\n",
    "stime = '2022-09-04 '+get_current_time()[1]\n",
    "end_time = get_current_time()[0]\n",
    "time_count(stime, end_time)"
   ]
  },
  {
   "cell_type": "code",
   "execution_count": 4,
   "metadata": {},
   "outputs": [
    {
     "name": "stdout",
     "output_type": "stream",
     "text": [
      "***connected!***\n",
      "***data queried!***\n"
     ]
    },
    {
     "data": {
      "text/plain": [
       "[156.0, 135.3]"
      ]
     },
     "execution_count": 4,
     "metadata": {},
     "output_type": "execute_result"
    }
   ],
   "source": [
    "from energy.median_energy_calculate import median_energy_calculate\n",
    "from clock.get_current_time import get_current_time\n",
    "start_time = '2022-09-02 00:00:00'\n",
    "end_time = get_current_time()[0]\n",
    "median_energy_calculate(start_time, end_time, [44])"
   ]
  },
  {
   "cell_type": "code",
   "execution_count": null,
   "metadata": {},
   "outputs": [],
   "source": [
    "from sched import scheduler\n",
    "from clock.get_current_time import get_current_time\n",
    "from energy.energy_trigger import energy_trigger\n",
    "from apscheduler.schedulers.blocking import BlockingScheduler\n",
    "start_time = get_current_time()[0]\n",
    "def et_try():\n",
    "    print('---Begin---')\n",
    "    plc = [2]\n",
    "    flag = energy_trigger(plc)\n",
    "    print(get_current_time()[0], flag)\n",
    "    print('---end---')\n",
    "scheduler = BlockingScheduler()\n",
    "scheduler.add_job(et_try, 'interval', seconds = 2)\n",
    "scheduler.start()"
   ]
  },
  {
   "cell_type": "code",
   "execution_count": null,
   "metadata": {},
   "outputs": [],
   "source": [
    "from sched import scheduler\n",
    "from clock.get_current_time import get_current_time\n",
    "from energy.energy_trigger import energy_trigger\n",
    "from apscheduler.schedulers.blocking import BlockingScheduler\n",
    "from plcid.query_all_plc import query_all_plc\n",
    "from settings import plc_csv_file, plc_csv_path\n",
    "import pandas as pd\n",
    "start_time = get_current_time()[0]\n",
    "def diagnose_trigger_service():\n",
    "    print('---Begin---')\n",
    "    plc_update = query_all_plc()\n",
    "    df_plc = pd.read_csv(plc_csv_path+plc_csv_file)\n",
    "    plc_set = df_plc['plc'].values\n",
    "    for i in range(0, df_plc.shape[0]):\n",
    "        plc = [int(plc_set[i])]\n",
    "        print(plc)\n",
    "        flag = energy_trigger(plc)\n",
    "        print(get_current_time()[0], flag)\n",
    "    print('---end---')\n",
    "scheduler = BlockingScheduler()\n",
    "scheduler.add_job(diagnose_trigger_service, 'interval', seconds = 15)\n",
    "scheduler.start()"
   ]
  },
  {
   "cell_type": "code",
   "execution_count": null,
   "metadata": {},
   "outputs": [],
   "source": []
  }
 ],
 "metadata": {
  "kernelspec": {
   "display_name": "Python 3.9.7 ('base')",
   "language": "python",
   "name": "python3"
  },
  "language_info": {
   "codemirror_mode": {
    "name": "ipython",
    "version": 3
   },
   "file_extension": ".py",
   "mimetype": "text/x-python",
   "name": "python",
   "nbconvert_exporter": "python",
   "pygments_lexer": "ipython3",
   "version": "3.9.7"
  },
  "orig_nbformat": 4,
  "vscode": {
   "interpreter": {
    "hash": "c3765fb9b71cc98c5ea2a910bcf325f2d1141f8314cab288bc6bb83ea9b99f13"
   }
  }
 },
 "nbformat": 4,
 "nbformat_minor": 2
}
